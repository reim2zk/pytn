{
 "cells": [
  {
   "cell_type": "markdown",
   "metadata": {},
   "source": [
    "# Import"
   ]
  },
  {
   "cell_type": "code",
   "execution_count": 1,
   "metadata": {},
   "outputs": [
    {
     "name": "stdout",
     "output_type": "stream",
     "text": [
      "__init__.py   ctmrg_test.py linalg.py     mps.py\n",
      "\u001b[34m__pycache__\u001b[m\u001b[m   dmrg.py       mpo.py        mps_test.py\n",
      "ctmrg.py      dmrg_test.py  mpo_test.py   utils.py\n"
     ]
    }
   ],
   "source": [
    "! ls ../pytn\n",
    "import sys\n",
    "sys.path.append(\"..\")"
   ]
  },
  {
   "cell_type": "code",
   "execution_count": 25,
   "metadata": {},
   "outputs": [],
   "source": [
    "import tensorflow as tf\n",
    "import numpy as np\n",
    "import pandas as pd\n",
    "import seaborn as sns\n",
    "import matplotlib.pyplot as plt"
   ]
  },
  {
   "cell_type": "code",
   "execution_count": 20,
   "metadata": {},
   "outputs": [],
   "source": [
    "import pytn\n",
    "import pytn.dmrg\n",
    "import pytn.mps\n",
    "import pytn.mpo"
   ]
  },
  {
   "cell_type": "markdown",
   "metadata": {},
   "source": [
    "# Calculation"
   ]
  },
  {
   "cell_type": "code",
   "execution_count": 4,
   "metadata": {},
   "outputs": [
    {
     "data": {
      "text/plain": [
       "1636695652.156615"
      ]
     },
     "execution_count": 4,
     "metadata": {},
     "output_type": "execute_result"
    }
   ],
   "source": [
    "import time\n",
    "time.time()"
   ]
  },
  {
   "cell_type": "code",
   "execution_count": 8,
   "metadata": {},
   "outputs": [
    {
     "name": "stdout",
     "output_type": "stream",
     "text": [
      "0.02308487892150879\n",
      "0.011782169342041016\n",
      "0.014908075332641602\n",
      "0.0568089485168457\n",
      "0.30941104888916016\n",
      "2.800337791442871\n",
      "24.45807909965515\n"
     ]
    }
   ],
   "source": [
    "J = 1.0\n",
    "g = 0.5\n",
    "li = []\n",
    "for num in [6, 7, 8, 9, 10, 11, 12]:\n",
    "    t0 = time.time()\n",
    "    mpo = pytn.mpo.traverse_field_ising_mpo(J=J, g=g, num=num)\n",
    "    m = mpo.as_matrix()\n",
    "    mps = pytn.mps.up_spin_mps(num=num, chi=None)\n",
    "    (lam_w, _) = tf.linalg.eigh(m)\n",
    "    t1 = time.time()\n",
    "    print(t1-t0)\n",
    "    el = {\n",
    "        \"method\": \"direct\",\n",
    "        \"min_egival\": lam_w[0].numpy(),\n",
    "        \"num\": num,\n",
    "        \"chi\": None,\n",
    "        \"J\": J,\n",
    "        \"g\": g,\n",
    "        \"elapsed_time\": t1-t0\n",
    "    }\n",
    "    li.append(el)\n",
    "direct_res_li = li"
   ]
  },
  {
   "cell_type": "code",
   "execution_count": 10,
   "metadata": {},
   "outputs": [
    {
     "name": "stdout",
     "output_type": "stream",
     "text": [
      "0.08289408683776855\n",
      "0.10925579071044922\n",
      "0.1775040626525879\n",
      "0.2779660224914551\n",
      "0.413287878036499\n",
      "0.5402750968933105\n",
      "0.6910398006439209\n",
      "1.1697468757629395\n",
      "1.96952486038208\n",
      "5.716292142868042\n",
      "160.05509495735168\n"
     ]
    }
   ],
   "source": [
    "J = 1.0\n",
    "g = 0.5\n",
    "li = []\n",
    "chi = 10\n",
    "max_iter = 3\n",
    "for num in [6, 7, 8, 9, 10, 11, 12, 15, 20, 25, 30]:\n",
    "    t0 = time.time()\n",
    "    mpo = pytn.mpo.traverse_field_ising_mpo(J=J, g=g, num=num)\n",
    "    mps = pytn.mps.up_spin_mps(num=num, chi=chi)\n",
    "    dmrg = pytn.dmrg.DMRG(mpo=mpo, mps=mps)\n",
    "    res = dmrg.run(max_iter=max_iter)\n",
    "    t1 = time.time()\n",
    "    print(t1-t0)\n",
    "    el = {\n",
    "        \"method\": \"DMRG\",\n",
    "        \"min_egival\": res[-1][\"min_eigval\"],\n",
    "        \"num\": num,\n",
    "        \"chi\": chi,\n",
    "        \"J\": J,\n",
    "        \"g\": g,\n",
    "        \"elapsed_time\": t1-t0\n",
    "    }\n",
    "    li.append(el)\n",
    "dmrg_res_li = li"
   ]
  },
  {
   "cell_type": "code",
   "execution_count": 11,
   "metadata": {},
   "outputs": [
    {
     "name": "stdout",
     "output_type": "stream",
     "text": [
      "0.08193612098693848\n",
      "0.09221410751342773\n",
      "0.12948012351989746\n",
      "0.14004302024841309\n",
      "0.1784348487854004\n",
      "0.2029402256011963\n",
      "0.24538278579711914\n",
      "0.3801229000091553\n",
      "0.6764581203460693\n",
      "2.990142822265625\n",
      "116.59780502319336\n"
     ]
    }
   ],
   "source": [
    "J = 1.0\n",
    "g = 0.5\n",
    "li = []\n",
    "chi = 5\n",
    "max_iter = 3\n",
    "for num in [6, 7, 8, 9, 10, 11, 12, 15, 20, 25, 30]:\n",
    "    t0 = time.time()\n",
    "    mpo = pytn.mpo.traverse_field_ising_mpo(J=J, g=g, num=num)\n",
    "    mps = pytn.mps.up_spin_mps(num=num, chi=chi)\n",
    "    dmrg = pytn.dmrg.DMRG(mpo=mpo, mps=mps)\n",
    "    res = dmrg.run(max_iter=max_iter)\n",
    "    t1 = time.time()\n",
    "    print(t1-t0)\n",
    "    el = {\n",
    "        \"method\": \"DMRG\",\n",
    "        \"min_egival\": res[-1][\"min_eigval\"],\n",
    "        \"num\": num,\n",
    "        \"chi\": chi,\n",
    "        \"J\": J,\n",
    "        \"g\": g,\n",
    "        \"elapsed_time\": t1-t0\n",
    "    }\n",
    "    li.append(el)\n",
    "dmrg_chi5_res_li = li"
   ]
  },
  {
   "cell_type": "code",
   "execution_count": 26,
   "metadata": {},
   "outputs": [
    {
     "data": {
      "image/png": "[encoded data removed]",
      "text/plain": [
       "<Figure size 432x288 with 1 Axes>"
      ]
     },
     "metadata": {
      "needs_background": "light"
     },
     "output_type": "display_data"
    }
   ],
   "source": [
    "df = pd.DataFrame(direct_res_li + dmrg_res_li + dmrg_chi5_res_li)\n",
    "df[\"method\"] = np.where(df[\"method\"] == \"DMRG\", \"DMRG,chi=\"+df[\"chi\"].astype(str), df[\"method\"])\n",
    "sns.lineplot(data=df, x=\"num\", y=\"elapsed_time\", hue=\"method\")\n",
    "plt.yscale(\"log\")"
   ]
  },
  {
   "cell_type": "markdown",
   "metadata": {},
   "source": [
    "直接体格化ではnum=12あたりから計算時間が増大する。\n",
    "DMRGを使うと、num=25くらいまでは数秒で終わらせることができる。ただし、num=30だと計算時間が大きい。\n",
    "\n",
    "計算のステップの改善箇所は多数あるので、実装が甘い。\n",
    "\n",
    "num=30の場合、Hamiltoianの大きさは"
   ]
  },
  {
   "cell_type": "code",
   "execution_count": 31,
   "metadata": {},
   "outputs": [
    {
     "data": {
      "text/plain": [
       "1073741824"
      ]
     },
     "execution_count": 31,
     "metadata": {},
     "output_type": "execute_result"
    }
   ],
   "source": [
    "2**30"
   ]
  },
  {
   "cell_type": "markdown",
   "metadata": {},
   "source": [
    "になる。"
   ]
  },
  {
   "cell_type": "code",
   "execution_count": 30,
   "metadata": {},
   "outputs": [
    {
     "data": {
      "text/plain": [
       "<matplotlib.axes._subplots.AxesSubplot at 0x7f9dfb6eba30>"
      ]
     },
     "execution_count": 30,
     "metadata": {},
     "output_type": "execute_result"
    },
    {
     "data": {
      "image/png": "[encoded data removed]",
      "text/plain": [
       "<Figure size 432x288 with 1 Axes>"
      ]
     },
     "metadata": {
      "needs_background": "light"
     },
     "output_type": "display_data"
    }
   ],
   "source": [
    "df = pd.DataFrame(direct_res_li + dmrg_res_li + dmrg_chi5_res_li)\n",
    "df[\"method\"] = np.where(df[\"method\"] == \"DMRG\", \"DMRG,chi=\"+df[\"chi\"].astype(str), df[\"method\"])\n",
    "sns.lineplot(data=df, x=\"num\", y=\"min_egival\", hue=\"method\")"
   ]
  },
  {
   "cell_type": "markdown",
   "metadata": {},
   "source": [
    "固有値はどの計算値もよく一致しているので、DMRGは精度良く固有値を計算できているといえる。"
   ]
  },
  {
   "cell_type": "code",
   "execution_count": 32,
   "metadata": {},
   "outputs": [
    {
     "name": "stdout",
     "output_type": "stream",
     "text": [
      "0.674293041229248\n",
      "1.9968976974487305\n",
      "13.714585781097412\n",
      "71.17728781700134\n"
     ]
    }
   ],
   "source": [
    "J = 1.0\n",
    "g = 0.5\n",
    "li = []\n",
    "chi = 5\n",
    "max_iter = 3\n",
    "num = 20\n",
    "for chi in [5, 10, 15, 20]:\n",
    "    t0 = time.time()\n",
    "    mpo = pytn.mpo.traverse_field_ising_mpo(J=J, g=g, num=num)\n",
    "    mps = pytn.mps.up_spin_mps(num=num, chi=chi)\n",
    "    dmrg = pytn.dmrg.DMRG(mpo=mpo, mps=mps)\n",
    "    res = dmrg.run(max_iter=max_iter)\n",
    "    t1 = time.time()\n",
    "    print(t1-t0)\n",
    "    el = {\n",
    "        \"method\": \"DMRG\",\n",
    "        \"min_egival\": res[-1][\"min_eigval\"],\n",
    "        \"num\": num,\n",
    "        \"chi\": chi,\n",
    "        \"J\": J,\n",
    "        \"g\": g,\n",
    "        \"elapsed_time\": t1-t0\n",
    "    }\n",
    "    li.append(el)\n",
    "dmrg_chi_res_li = li"
   ]
  },
  {
   "cell_type": "code",
   "execution_count": 36,
   "metadata": {},
   "outputs": [
    {
     "data": {
      "text/plain": [
       "<matplotlib.axes._subplots.AxesSubplot at 0x7f9dfc0e2400>"
      ]
     },
     "execution_count": 36,
     "metadata": {},
     "output_type": "execute_result"
    },
    {
     "data": {
      "image/png": "[encoded data removed]",
      "text/plain": [
       "<Figure size 432x288 with 1 Axes>"
      ]
     },
     "metadata": {
      "needs_background": "light"
     },
     "output_type": "display_data"
    }
   ],
   "source": [
    "df = pd.DataFrame(dmrg_chi_res_li)\n",
    "sns.lineplot(data=df, x=\"chi\", y=\"min_egival\")"
   ]
  }
 ],
 "metadata": {
  "kernelspec": {
   "display_name": "Python 3",
   "language": "python",
   "name": "python3"
  },
  "language_info": {
   "codemirror_mode": {
    "name": "ipython",
    "version": 3
   },
   "file_extension": ".py",
   "mimetype": "text/x-python",
   "name": "python",
   "nbconvert_exporter": "python",
   "pygments_lexer": "ipython3",
   "version": "3.8.3"
  }
 },
 "nbformat": 4,
 "nbformat_minor": 4
}
