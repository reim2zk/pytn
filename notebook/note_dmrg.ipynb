{
 "cells": [
  {
   "cell_type": "code",
   "execution_count": 9,
   "metadata": {},
   "outputs": [
    {
     "name": "stdout",
     "output_type": "stream",
     "text": [
      "__init__.py   ctmrg_test.py mpo.py        mps_test.py\n",
      "\u001b[34m__pycache__\u001b[m\u001b[m   dmrg.py       mpo_test.py   utils.py\n",
      "ctmrg.py      dmrg_test.py  mps.py\n"
     ]
    }
   ],
   "source": [
    "! ls ../pytn\n",
    "import sys\n",
    "sys.path.append(\"..\")"
   ]
  },
  {
   "cell_type": "code",
   "execution_count": 74,
   "metadata": {},
   "outputs": [],
   "source": [
    "import tensorflow as tf\n",
    "import numpy as np"
   ]
  },
  {
   "cell_type": "code",
   "execution_count": 65,
   "metadata": {},
   "outputs": [
    {
     "data": {
      "text/plain": [
       "<module 'pytn.mpo' from '../pytn/mpo.py'>"
      ]
     },
     "execution_count": 65,
     "metadata": {},
     "output_type": "execute_result"
    }
   ],
   "source": [
    "import importlib\n",
    "import pytn\n",
    "import pytn.mpo\n",
    "importlib.reload(pytn.mpo)"
   ]
  },
  {
   "cell_type": "code",
   "execution_count": 73,
   "metadata": {},
   "outputs": [
    {
     "name": "stdout",
     "output_type": "stream",
     "text": [
      "n= 4\n"
     ]
    },
    {
     "data": {
      "text/plain": [
       "<tf.Tensor: shape=(4, 4), dtype=float32, numpy=\n",
       "array([[-2.,  0.,  0.,  0.],\n",
       "       [ 0.,  2.,  0.,  0.],\n",
       "       [ 0.,  0.,  2.,  0.],\n",
       "       [ 0.,  0.,  0., -2.]], dtype=float32)>"
      ]
     },
     "metadata": {},
     "output_type": "display_data"
    },
    {
     "data": {
      "text/plain": [
       "array([-2., -2.,  2.,  2.], dtype=float32)"
      ]
     },
     "metadata": {},
     "output_type": "display_data"
    },
    {
     "data": {
      "text/plain": [
       "array([1., 0., 0., 0.], dtype=float32)"
      ]
     },
     "metadata": {},
     "output_type": "display_data"
    },
    {
     "data": {
      "text/plain": [
       "<tf.Tensor: shape=(), dtype=float32, numpy=1.0>"
      ]
     },
     "metadata": {},
     "output_type": "display_data"
    }
   ],
   "source": [
    "num = 2\n",
    "mpo = pytn.mpo.traverse_field_ising_mpo(J=2.0, g=0.0, num=num)\n",
    "m = mpo.as_matrix()\n",
    "t = mpo.full_contract()\n",
    "t[1][1][1][1]\n",
    "display(m)\n",
    "(lam_w, U_i_w) = tf.linalg.eigh(m)\n",
    "display(lam_w.numpy())\n",
    "display(U_i_w[:, 0].numpy())\n",
    "display(tf.reshape(U_i_w[:, 0], [2]*num)[0][0])\n"
   ]
  },
  {
   "cell_type": "code",
   "execution_count": 76,
   "metadata": {},
   "outputs": [
    {
     "name": "stdout",
     "output_type": "stream",
     "text": [
      "n= 32\n"
     ]
    },
    {
     "data": {
      "text/plain": [
       "array([-6.026683  , -5.457426  , -4.365017  , -3.7957637 , -3.4072394 ,\n",
       "       -2.8379707 , -2.6616597 , -2.1887026 , -2.0924022 , -1.7455719 ,\n",
       "       -1.6194444 , -1.1763123 , -0.9999997 , -0.5270423 , -0.4307403 ,\n",
       "       -0.04221711,  0.04221736,  0.43074086,  0.5270428 ,  1.0000001 ,\n",
       "        1.1763119 ,  1.6194437 ,  1.7455717 ,  2.0923996 ,  2.188706  ,\n",
       "        2.6616595 ,  2.837972  ,  3.4072375 ,  3.7957628 ,  4.3650103 ,\n",
       "        5.457431  ,  6.0266924 ], dtype=float32)"
      ]
     },
     "metadata": {},
     "output_type": "display_data"
    },
    {
     "data": {
      "text/plain": [
       "array([0.43696758, 0.22770771, 0.1457991 , 0.18918698, 0.13857833,\n",
       "       0.08665611, 0.11244369, 0.18918765, 0.14579912, 0.08149052,\n",
       "       0.05859531, 0.08665629, 0.11244365, 0.08149082, 0.12260533,\n",
       "       0.22770973, 0.22770792, 0.12260466, 0.08149057, 0.11244372,\n",
       "       0.08665609, 0.0585954 , 0.08149082, 0.1458002 , 0.18918708,\n",
       "       0.11244375, 0.08665635, 0.13857934, 0.18918766, 0.14580022,\n",
       "       0.22770968, 0.43697235], dtype=float32)"
      ]
     },
     "metadata": {},
     "output_type": "display_data"
    }
   ],
   "source": [
    "num = 5\n",
    "mpo = pytn.mpo.traverse_field_ising_mpo(J=1.0, g=1.0, num=num)\n",
    "m = mpo.as_matrix()\n",
    "t = mpo.full_contract()\n",
    "(lam_w, U_i_w) = tf.linalg.eigh(m)\n",
    "display(lam_w.numpy())\n",
    "display(U_i_w[:, 0].numpy())"
   ]
  },
  {
   "cell_type": "code",
   "execution_count": 2,
   "metadata": {},
   "outputs": [],
   "source": [
    "import tensorflow as tf\n",
    "a = tf.constant([[[1]]])"
   ]
  },
  {
   "cell_type": "code",
   "execution_count": 6,
   "metadata": {},
   "outputs": [
    {
     "data": {
      "text/plain": [
       "<tf.Tensor: shape=(1, 1, 1), dtype=int32, numpy=array([[[1]]], dtype=int32)>"
      ]
     },
     "execution_count": 6,
     "metadata": {},
     "output_type": "execute_result"
    }
   ],
   "source": [
    "a[0:1]"
   ]
  }
 ],
 "metadata": {
  "kernelspec": {
   "display_name": "Python 3",
   "language": "python",
   "name": "python3"
  },
  "language_info": {
   "codemirror_mode": {
    "name": "ipython",
    "version": 3
   },
   "file_extension": ".py",
   "mimetype": "text/x-python",
   "name": "python",
   "nbconvert_exporter": "python",
   "pygments_lexer": "ipython3",
   "version": "3.8.3"
  }
 },
 "nbformat": 4,
 "nbformat_minor": 4
}
