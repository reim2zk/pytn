{
 "cells": [
  {
   "cell_type": "markdown",
   "metadata": {},
   "source": [
    "# Import"
   ]
  },
  {
   "cell_type": "code",
   "execution_count": 25,
   "metadata": {},
   "outputs": [],
   "source": [
    "import pandas as pd\n",
    "import numpy as np\n",
    "import tensorflow as tf\n",
    "from tqdm import tqdm\n",
    "import matplotlib.pyplot as plt\n",
    "import seaborn as sns"
   ]
  },
  {
   "cell_type": "markdown",
   "metadata": {},
   "source": [
    "# Def"
   ]
  },
  {
   "cell_type": "code",
   "execution_count": 3,
   "metadata": {},
   "outputs": [],
   "source": [
    "def ising_tensor_W(J_kT: float, num: int):\n",
    "    #   W_gmah\n",
    "    #     m\n",
    "    # g <-+-> h\n",
    "    #     a\n",
    "    n = tf.newaxis\n",
    "    s = tf.constant([1.0, -1.0])\n",
    "    s = (\n",
    "        s[:, n, n, n] * s[n, :, n, n] +\n",
    "        s[n, :, n, n] * s[n, n, n, :] +\n",
    "        s[n, n, :, n] * s[n, n, n, :] +\n",
    "        s[:, n, n, n] * s[n, n, :, n]\n",
    "    )\n",
    "    w = tf.exp(J_kT * s)\n",
    "    return w"
   ]
  },
  {
   "cell_type": "code",
   "execution_count": 67,
   "metadata": {},
   "outputs": [],
   "source": [
    "import tensorflow as tf\n",
    "import numpy as np\n",
    "\n",
    "\n",
    "class CTMRG():\n",
    "    N: int\n",
    "    W_abcd: tf.Tensor\n",
    "    chi: int\n",
    "\n",
    "    def __init__(self, N: int, J_kT: float, chi: int,\n",
    "                 boundary_cond=\"fixed\", rescale=False, disp=False):\n",
    "        self.N = N\n",
    "        self.W_abcd = ising_tensor_W(J_kT, N)\n",
    "        self.chi = chi\n",
    "        self.s_sigma_ab = [[(2*a-1)*(2*b-1) for a in [0, 1]] for b in [0, 1]]\n",
    "        self.s_sigma_ab = tf.constant(self.s_sigma_ab, dtype=tf.float32)\n",
    "        self.boundary_cond = boundary_cond\n",
    "        self.rescale = rescale\n",
    "        self.disp = disp\n",
    "\n",
    "    def eff_num(self, nw: int):\n",
    "        if self.chi is None:\n",
    "            return nw\n",
    "        if nw > self.chi:\n",
    "            return self.chi\n",
    "        else:\n",
    "            return nw\n",
    "\n",
    "    def measure(self, L, C_xy, P_xdy):\n",
    "        s_a = tf.constant([2*a-1 for a in [0, 1]], dtype=tf.float32)\n",
    "\n",
    "        # Z\n",
    "        Z = tf.einsum(\"xy,yz,zw,wx->\", C_xy, C_xy, C_xy, C_xy).numpy()\n",
    "        # spin_corr\n",
    "        CP_xay = tf.einsum(\"xy,ydz->xdz\", C_xy, P_xdy)\n",
    "        G_abcd = tf.einsum(\"xay,ybz,zcw,wdx->abcd\",\n",
    "                           CP_xay, CP_xay, CP_xay, CP_xay)\n",
    "        OL = tf.einsum(\"abcd,abcd->\", G_abcd, self.W_abcd)\n",
    "        s_sigma = tf.einsum(\"abcd,abcd,ab\",\n",
    "                            G_abcd, self.W_abcd, self.s_sigma_ab)\n",
    "        spin_corr = (s_sigma / OL).numpy()\n",
    "        # spin\n",
    "        phi_xy = tf.einsum(\"xy,yz->xz\", C_xy, C_xy)\n",
    "        QL = tf.einsum(\"xy,zw,xaz,yaw->\", phi_xy, phi_xy, P_xdy, P_xdy)\n",
    "        s = tf.einsum(\"xy,zw,xaz,yaw,a->\",\n",
    "                      phi_xy, phi_xy, P_xdy, P_xdy, s_a)\n",
    "        spin = (s / QL).numpy()\n",
    "        # output\n",
    "        if self.disp:\n",
    "            print(f\"L={L}, Z={Z}, spin={spin}, spin_corr={spin_corr}\")\n",
    "        return {\"L\": L, \"Z\": Z, \"spin\": spin, \"spin_corr\": spin_corr}\n",
    "\n",
    "    def init_tensor(self):\n",
    "        if self.boundary_cond == \"free\":\n",
    "            P1_abc = tf.reduce_sum(self.W_abcd, axis=0)\n",
    "            C1_ab = tf.reduce_sum(self.W_abcd, axis=[0, 1])\n",
    "        elif self.boundary_cond == \"fixed\":\n",
    "            P1_abc = self.W_abcd[1, :, :, :]\n",
    "            C1_ab = self.W_abcd[1, 1, :, :]\n",
    "        else:\n",
    "            msg = f\"invalid argument. boudanry_cond={self.boundary_cond}\"\n",
    "            raise Exception(msg)\n",
    "        return (P1_abc, C1_ab)\n",
    "\n",
    "    def rescale_tensor(self, P_xdy, C_xy):\n",
    "        if self.rescale:\n",
    "            scaling_coef = np.max(\n",
    "                [P_xdy.numpy().max(), C_xy.numpy().max()])\n",
    "            P_xdy = P_xdy / scaling_coef\n",
    "            C_xy = C_xy / scaling_coef\n",
    "        return (P_xdy, C_xy)\n",
    "\n",
    "    def run_directory(self):\n",
    "        (P1_abc, C1_ab) = self.init_tensor()\n",
    "\n",
    "        li = []\n",
    "        P_xdy = P1_abc\n",
    "        C_xy = C1_ab\n",
    "        for L in range(1, self.N//2+1):\n",
    "            # 1. measure\n",
    "            res_measurement = self.measure(L, C_xy, P_xdy)\n",
    "            li.append(res_measurement)\n",
    "\n",
    "            # 2. extention\n",
    "            P_x_a_b_y_d = tf.einsum(\"xcy,abcd->xabyd\",\n",
    "                                    P_xdy, self.W_abcd)\n",
    "            C_x_b_y_d = tf.einsum(\"xy,zax,ycw,abcd->zbwd\",\n",
    "                                  C_xy, P_xdy, P_xdy, self.W_abcd)\n",
    "\n",
    "            # 3. update\n",
    "            (x, a, b, y, d) = P_x_a_b_y_d.shape\n",
    "            P_xdy = tf.reshape(P_x_a_b_y_d, shape=(x*a, b, y*d))\n",
    "            (x, b, y, d) = C_x_b_y_d.shape\n",
    "            C_xy = tf.reshape(C_x_b_y_d, shape=(x*b, y*d))\n",
    "            (P_xdy, C_xy) = self.rescale_tensor(P_xdy, C_xy)\n",
    "        return li\n",
    "\n",
    "    def run(self):\n",
    "        (P1_abc, C1_ab) = self.init_tensor()\n",
    "\n",
    "        li = []\n",
    "        P_xdy = P1_abc\n",
    "        C_xy = C1_ab\n",
    "        for L in range(1, self.N//2+1):\n",
    "            # measumement\n",
    "            res_measurement = self.measure(L, C_xy, P_xdy)\n",
    "            li.append(res_measurement)\n",
    "\n",
    "            # extention\n",
    "            P_x_a_b_y_d = tf.einsum(\"xcy,abcd->xabyd\",\n",
    "                                    P_xdy, self.W_abcd)\n",
    "            C_x_b_y_d = tf.einsum(\"xy,zax,ycw,abcd->zbwd\",\n",
    "                                  C_xy, P_xdy, P_xdy, self.W_abcd)\n",
    "\n",
    "            # diagonalize\n",
    "            (x, a, y, b) = C_x_b_y_d.shape\n",
    "            C = tf.reshape(C_x_b_y_d, shape=(x*a, y*b))\n",
    "            (lam_i, U_xa_i) = tf.linalg.eigh(C)\n",
    "            num_lam = lam_i.shape[0]\n",
    "            nw = self.eff_num(num_lam)\n",
    "            lam_i = lam_i[num_lam-nw:]\n",
    "            U_xa_i = U_xa_i[:, num_lam-nw:]\n",
    "\n",
    "            # compression\n",
    "            # print([t.shape for t in [lam_w, U_xa_w, U_xa_w]])\n",
    "            C_i_j = tf.linalg.diag(lam_i)\n",
    "            (x, a, b, y, c) = P_x_a_b_y_d.shape\n",
    "            P_xa_d_yb = tf.reshape(P_x_a_b_y_d, shape=(x*a, b, y*c))\n",
    "            P_i_d_j = tf.einsum(\"xi,yj,xdy->idj\", U_xa_i, U_xa_i, P_xa_d_yb)\n",
    "\n",
    "            # update\n",
    "            P_xdy = P_i_d_j\n",
    "            C_xy = C_i_j\n",
    "            (P_xdy, C_xy) = self.rescale_tensor(P_xdy, C_xy)\n",
    "        return li\n"
   ]
  },
  {
   "cell_type": "markdown",
   "metadata": {},
   "source": [
    "# 1. Calculation"
   ]
  },
  {
   "cell_type": "code",
   "execution_count": 58,
   "metadata": {},
   "outputs": [
    {
     "data": {
      "text/plain": [
       "[{'L': 1, 'Z': 3235.907, 'spin': 0.9526214, 'spin_corr': 0.90840673},\n",
       " {'L': 2, 'Z': 1.2469213, 'spin': 0.9263695, 'spin_corr': 0.8852756},\n",
       " {'L': 3, 'Z': 2.0971007e-07, 'spin': 0.9174306, 'spin_corr': 0.87927175},\n",
       " {'L': 4, 'Z': 5.227875e-07, 'spin': 0.91391814, 'spin_corr': 0.87730545},\n",
       " {'L': 5, 'Z': 1.702885e-06, 'spin': 0.9124557, 'spin_corr': 0.8765782},\n",
       " {'L': 6, 'Z': 7.2479124e-06, 'spin': 0.911826, 'spin_corr': 0.8762894},\n",
       " {'L': 7, 'Z': 4.030957e-05, 'spin': 0.9115492, 'spin_corr': 0.8761693},\n",
       " {'L': 8, 'Z': 0.00029293384, 'spin': 0.91142994, 'spin_corr': 0.8761178},\n",
       " {'L': 9, 'Z': 0.0027815816, 'spin': 0.91139287, 'spin_corr': 0.87609524},\n",
       " {'L': 10, 'Z': 0.034511883, 'spin': 0.91139436, 'spin_corr': 0.876085}]"
      ]
     },
     "execution_count": 58,
     "metadata": {},
     "output_type": "execute_result"
    }
   ],
   "source": [
    "ctmrg = CTMRG(\n",
    "    N=20,\n",
    "    J_kT=1.0/2.0,\n",
    "    chi=None,\n",
    "    boundary_cond=\"fixed\",\n",
    "    rescale=True)\n",
    "ctmrg.run_directory()"
   ]
  },
  {
   "cell_type": "code",
   "execution_count": 59,
   "metadata": {},
   "outputs": [
    {
     "name": "stderr",
     "output_type": "stream",
     "text": [
      "100%|██████████| 30/30 [00:11<00:00,  2.53it/s]\n"
     ]
    }
   ],
   "source": [
    "T_li = np.linspace(1, 4, 30)\n",
    "res_li = []\n",
    "for T in tqdm(T_li):\n",
    "    ctmrg = CTMRG(\n",
    "        N=20,\n",
    "        J_kT=1.0/T,\n",
    "        chi=None,\n",
    "        boundary_cond=\"fixed\",\n",
    "        rescale=True)\n",
    "    res = ctmrg.run_directory()\n",
    "    el = {\"T\": T, \"res\": res}\n",
    "    res_li.append(el)"
   ]
  },
  {
   "cell_type": "code",
   "execution_count": 60,
   "metadata": {},
   "outputs": [],
   "source": [
    "res0_li = res_li"
   ]
  },
  {
   "cell_type": "code",
   "execution_count": null,
   "metadata": {},
   "outputs": [],
   "source": [
    "res0"
   ]
  },
  {
   "cell_type": "code",
   "execution_count": 62,
   "metadata": {},
   "outputs": [
    {
     "data": {
      "text/plain": [
       "<matplotlib.axes._subplots.AxesSubplot at 0x7f95e8ef6160>"
      ]
     },
     "execution_count": 62,
     "metadata": {},
     "output_type": "execute_result"
    },
    {
     "data": {
      "image/png": "[encoded data removed]",
      "text/plain": [
       "<Figure size 432x288 with 1 Axes>"
      ]
     },
     "metadata": {
      "needs_background": "light"
     },
     "output_type": "display_data"
    }
   ],
   "source": [
    "df = pd.DataFrame([{\"T\": el[\"T\"], \"spin_corr\": el[\"res\"][-1][\"spin_corr\"]} for el in res0_li])\n",
    "sns.scatterplot(data=df, x=\"T\", y=\"spin_corr\")"
   ]
  },
  {
   "cell_type": "code",
   "execution_count": 63,
   "metadata": {},
   "outputs": [
    {
     "data": {
      "image/png": "[encoded data removed]",
      "text/plain": [
       "<Figure size 432x288 with 1 Axes>"
      ]
     },
     "metadata": {
      "needs_background": "light"
     },
     "output_type": "display_data"
    }
   ],
   "source": [
    "for el in res0_li[::10] + [res0_li[-1]]:\n",
    "    T = el[\"T\"]\n",
    "    df = pd.DataFrame(el[\"res\"])\n",
    "    sns.scatterplot(data=df, x=\"L\", y=\"spin_corr\", label=f\"T={T}\")"
   ]
  },
  {
   "cell_type": "markdown",
   "metadata": {},
   "source": [
    "どの温度でも十分に早い速度で収束している。臨界点温度を調べる。"
   ]
  },
  {
   "cell_type": "code",
   "execution_count": 46,
   "metadata": {},
   "outputs": [],
   "source": [
    "T = 2.27\n",
    "ctmrg = CTMRG(\n",
    "    N=20,\n",
    "    J_kT=1.0/T,\n",
    "    chi=None,\n",
    "    boundary_cond=\"fixed\",\n",
    "    rescale=True)\n",
    "res = ctmrg.run_directory()"
   ]
  },
  {
   "cell_type": "code",
   "execution_count": 56,
   "metadata": {},
   "outputs": [
    {
     "data": {
      "text/plain": [
       "<tf.Tensor: shape=(3, 3), dtype=int32, numpy=\n",
       "array([[1, 0, 0],\n",
       "       [0, 2, 0],\n",
       "       [0, 0, 3]], dtype=int32)>"
      ]
     },
     "execution_count": 56,
     "metadata": {},
     "output_type": "execute_result"
    }
   ],
   "source": [
    "x = tf.constant([1, 2, 3])\n",
    "tf.linalg.diag(x)"
   ]
  },
  {
   "cell_type": "code",
   "execution_count": 55,
   "metadata": {},
   "outputs": [
    {
     "data": {
      "text/plain": [
       "<tf.Tensor: shape=(3,), dtype=float32, numpy=array([-0.40972495,  1.5771484 , 10.832573  ], dtype=float32)>"
      ]
     },
     "metadata": {},
     "output_type": "display_data"
    },
    {
     "data": {
      "text/plain": [
       "<tf.Tensor: shape=(2,), dtype=float32, numpy=array([ 1.5771484, 10.832573 ], dtype=float32)>"
      ]
     },
     "metadata": {},
     "output_type": "display_data"
    }
   ],
   "source": [
    "m = tf.constant([[1.0, 2.0, 3.0], [2.0, 5.0, 4.0], [3.0, 4.0, 6.0]])\n",
    "lam_w = tf.linalg.eigh(m)[0]\n",
    "display(lam_w)\n",
    "nw = 2\n",
    "display(lam_w[len(lam_w)-nw:])"
   ]
  },
  {
   "cell_type": "code",
   "execution_count": 48,
   "metadata": {},
   "outputs": [
    {
     "data": {
      "text/plain": [
       "<matplotlib.axes._subplots.AxesSubplot at 0x7f95d609f8b0>"
      ]
     },
     "execution_count": 48,
     "metadata": {},
     "output_type": "execute_result"
    },
    {
     "data": {
      "image/png": "[encoded data removed]",
      "text/plain": [
       "<Figure size 432x288 with 1 Axes>"
      ]
     },
     "metadata": {
      "needs_background": "light"
     },
     "output_type": "display_data"
    }
   ],
   "source": [
    "df = pd.DataFrame(res)\n",
    "sns.scatterplot(data=df, x=\"L\", y=\"spin_corr\", label=f\"T={T}\")"
   ]
  },
  {
   "cell_type": "markdown",
   "metadata": {},
   "source": [
    "他の温度に比べて収束が遅くなる。これは、TCRMGを使わないと正しく素早く収束計算できないかも。"
   ]
  },
  {
   "cell_type": "code",
   "execution_count": 71,
   "metadata": {},
   "outputs": [
    {
     "name": "stdout",
     "output_type": "stream",
     "text": [
      "elapsed time: 2.4313416481018066\n"
     ]
    }
   ],
   "source": [
    "from time import time\n",
    "t0 = time()\n",
    "T = 2.27\n",
    "ctmrg = CTMRG(\n",
    "    N=20,\n",
    "    J_kT=1.0/T,\n",
    "    chi=None,\n",
    "    boundary_cond=\"fixed\",\n",
    "    rescale=True)\n",
    "res_chi100 = ctmrg.run()\n",
    "t1 = time()\n",
    "print(\"elapsed time:\", t1-t0)"
   ]
  },
  {
   "cell_type": "code",
   "execution_count": 72,
   "metadata": {},
   "outputs": [
    {
     "name": "stdout",
     "output_type": "stream",
     "text": [
      "elapsed time: 0.10281896591186523\n"
     ]
    }
   ],
   "source": [
    "t0 = time()\n",
    "chi = 100\n",
    "T = 2.27\n",
    "ctmrg = CTMRG(\n",
    "    N=30,\n",
    "    J_kT=1.0/T,\n",
    "    chi=chi,\n",
    "    boundary_cond=\"fixed\",\n",
    "    rescale=True)\n",
    "res_chi100 = ctmrg.run()\n",
    "t1 = time()\n",
    "print(\"elapsed time:\", t1-t0)"
   ]
  },
  {
   "cell_type": "markdown",
   "metadata": {},
   "source": [
    "CTMRGを使うことで相当な計算速度向上"
   ]
  },
  {
   "cell_type": "code",
   "execution_count": 79,
   "metadata": {},
   "outputs": [
    {
     "name": "stdout",
     "output_type": "stream",
     "text": [
      "elapsed time: 3.048804759979248\n"
     ]
    }
   ],
   "source": [
    "t0 = time()\n",
    "chi = 100\n",
    "T = 2.27\n",
    "ctmrg = CTMRG(\n",
    "    N=1000,\n",
    "    J_kT=1.0/T,\n",
    "    chi=chi,\n",
    "    boundary_cond=\"fixed\",\n",
    "    rescale=True)\n",
    "res_chi100 = ctmrg.run()\n",
    "t1 = time()\n",
    "print(\"elapsed time:\", t1-t0)"
   ]
  },
  {
   "cell_type": "code",
   "execution_count": 84,
   "metadata": {},
   "outputs": [
    {
     "name": "stdout",
     "output_type": "stream",
     "text": [
      "elapsed time: 0.9904189109802246\n"
     ]
    }
   ],
   "source": [
    "t0 = time()\n",
    "chi = 4\n",
    "T = 2.27\n",
    "ctmrg = CTMRG(\n",
    "    N=1000,\n",
    "    J_kT=1.0/T,\n",
    "    chi=chi,\n",
    "    boundary_cond=\"fixed\",\n",
    "    rescale=True)\n",
    "res_chi4 = ctmrg.run()\n",
    "t1 = time()\n",
    "print(\"elapsed time:\", t1-t0)"
   ]
  },
  {
   "cell_type": "code",
   "execution_count": 85,
   "metadata": {},
   "outputs": [
    {
     "data": {
      "image/png": "[encoded data removed]",
      "text/plain": [
       "<Figure size 432x288 with 1 Axes>"
      ]
     },
     "metadata": {
      "needs_background": "light"
     },
     "output_type": "display_data"
    }
   ],
   "source": [
    "df = pd.DataFrame(res_chi4)\n",
    "sns.scatterplot(data=df, x=\"L\", y=\"spin\", label=\"chi=4\")\n",
    "df = pd.DataFrame(res_chi100)\n",
    "sns.scatterplot(data=df, x=\"L\", y=\"spin\", label=\"chi=100\")\n",
    "plt.xscale(\"log\")"
   ]
  }
 ],
 "metadata": {
  "kernelspec": {
   "display_name": "Python 3",
   "language": "python",
   "name": "python3"
  },
  "language_info": {
   "codemirror_mode": {
    "name": "ipython",
    "version": 3
   },
   "file_extension": ".py",
   "mimetype": "text/x-python",
   "name": "python",
   "nbconvert_exporter": "python",
   "pygments_lexer": "ipython3",
   "version": "3.8.3"
  }
 },
 "nbformat": 4,
 "nbformat_minor": 4
}
